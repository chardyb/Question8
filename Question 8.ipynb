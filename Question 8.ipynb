{
 "cells": [
  {
   "cell_type": "code",
   "execution_count": null,
   "id": "187557b3",
   "metadata": {},
   "outputs": [],
   "source": [
    "# Question 8\n",
    "# Susan has a weight of 60 kilograms and a height of 1.58 meters. \n",
    "# Write Code to Calculate and Print Susan’s Body Mass Index as float. \n",
    "# Note: Body Mass Index is a person’s weight in kilograms divided by the square of height in meters."
   ]
  },
  {
   "cell_type": "code",
   "execution_count": 1,
   "id": "bb251d88",
   "metadata": {},
   "outputs": [],
   "source": [
    "weight = 60.0\n",
    "height = 1.58 "
   ]
  },
  {
   "cell_type": "code",
   "execution_count": 3,
   "id": "c0b406bb",
   "metadata": {},
   "outputs": [
    {
     "name": "stdout",
     "output_type": "stream",
     "text": [
      "<class 'float'>\n",
      "<class 'float'>\n"
     ]
    }
   ],
   "source": [
    "# Data type confirmation \n",
    "print(type(weight))\n",
    "print(type(height))"
   ]
  },
  {
   "cell_type": "code",
   "execution_count": null,
   "id": "24b8fa47",
   "metadata": {},
   "outputs": [],
   "source": [
    "# Calculate BMI, weight in kilograms divided by the square of height in meters"
   ]
  },
  {
   "cell_type": "code",
   "execution_count": 8,
   "id": "33517f8e",
   "metadata": {},
   "outputs": [
    {
     "name": "stdout",
     "output_type": "stream",
     "text": [
      "24.034609838166958\n"
     ]
    }
   ],
   "source": [
    "bmi = weight / height**2\n",
    "print(bmi)"
   ]
  },
  {
   "cell_type": "code",
   "execution_count": null,
   "id": "79591b1b",
   "metadata": {},
   "outputs": [],
   "source": [
    "# The BMI of Susan is 24.0346"
   ]
  }
 ],
 "metadata": {
  "kernelspec": {
   "display_name": "Python 3 (ipykernel)",
   "language": "python",
   "name": "python3"
  },
  "language_info": {
   "codemirror_mode": {
    "name": "ipython",
    "version": 3
   },
   "file_extension": ".py",
   "mimetype": "text/x-python",
   "name": "python",
   "nbconvert_exporter": "python",
   "pygments_lexer": "ipython3",
   "version": "3.9.12"
  }
 },
 "nbformat": 4,
 "nbformat_minor": 5
}
